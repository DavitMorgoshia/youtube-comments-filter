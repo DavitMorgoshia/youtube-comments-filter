{
 "cells": [
  {
   "cell_type": "code",
   "execution_count": 19,
   "id": "930c4132",
   "metadata": {},
   "outputs": [],
   "source": [
    "import json\n",
    "import tensorflow as tf\n",
    "import pandas as pd\n",
    "\n",
    "from tensorflow.keras.preprocessing.text import Tokenizer\n",
    "from tensorflow.keras.preprocessing.sequence import pad_sequences"
   ]
  },
  {
   "cell_type": "code",
   "execution_count": 20,
   "id": "6a8ac57a",
   "metadata": {},
   "outputs": [],
   "source": [
    "vocab_size = 5000\n",
    "embedding_dim = 16\n",
    "max_length = 100\n",
    "trunc_type='post'\n",
    "padding_type='post'\n",
    "oov_tok = \"<OOV>\"\n",
    "training_size = 1400"
   ]
  },
  {
   "cell_type": "code",
   "execution_count": 21,
   "id": "cbc5b4ce",
   "metadata": {},
   "outputs": [],
   "source": [
    "text = pd.read_csv(\"youtube-comments.csv\")"
   ]
  },
  {
   "cell_type": "code",
   "execution_count": 22,
   "id": "2ecc42ce",
   "metadata": {},
   "outputs": [],
   "source": [
    "sentences = list(text[\"content\"])\n",
    "labels = list(text[\"class\"])"
   ]
  },
  {
   "cell_type": "code",
   "execution_count": 23,
   "id": "2899e4c0",
   "metadata": {},
   "outputs": [],
   "source": [
    "training_sentences = sentences[0:training_size]\n",
    "testing_sentences = sentences[training_size:]\n",
    "training_labels = labels[0:training_size]\n",
    "testing_labels = labels[training_size:]"
   ]
  },
  {
   "cell_type": "code",
   "execution_count": 24,
   "id": "8e85ccb4",
   "metadata": {},
   "outputs": [],
   "source": [
    "tokenizer = Tokenizer(num_words=vocab_size, oov_token=oov_tok, filters = \"!\\\\w*\")\n",
    "tokenizer.fit_on_texts(training_sentences)\n",
    "\n",
    "word_index = tokenizer.word_index\n",
    "\n",
    "training_sequences = tokenizer.texts_to_sequences(training_sentences)\n",
    "training_padded = pad_sequences(training_sequences, maxlen=max_length, padding=padding_type, truncating=trunc_type)\n",
    "\n",
    "testing_sequences = tokenizer.texts_to_sequences(testing_sentences)\n",
    "testing_padded = pad_sequences(testing_sequences, maxlen=max_length, padding=padding_type, truncating=trunc_type)"
   ]
  },
  {
   "cell_type": "code",
   "execution_count": 25,
   "id": "d45bd132",
   "metadata": {},
   "outputs": [
    {
     "data": {
      "text/plain": [
       "4542"
      ]
     },
     "execution_count": 25,
     "metadata": {},
     "output_type": "execute_result"
    }
   ],
   "source": [
    "len(word_index)"
   ]
  },
  {
   "cell_type": "code",
   "execution_count": 26,
   "id": "59b55dcd",
   "metadata": {},
   "outputs": [],
   "source": [
    "# Need this block to get it to work with TensorFlow 2.x\n",
    "import numpy as np\n",
    "training_padded = np.array(training_padded)\n",
    "training_labels = np.array(training_labels)\n",
    "testing_padded = np.array(testing_padded)\n",
    "testing_labels = np.array(testing_labels)"
   ]
  },
  {
   "cell_type": "code",
   "execution_count": 27,
   "id": "26347143",
   "metadata": {},
   "outputs": [],
   "source": [
    "model = tf.keras.Sequential([\n",
    "    tf.keras.layers.Embedding(vocab_size, embedding_dim, input_length=max_length),\n",
    "    tf.keras.layers.GlobalAveragePooling1D(),\n",
    "    tf.keras.layers.Dense(24, activation='relu'),\n",
    "    tf.keras.layers.Dense(1, activation='sigmoid')\n",
    "])\n",
    "model.compile(loss='binary_crossentropy',optimizer='adam',metrics=['accuracy'])"
   ]
  },
  {
   "cell_type": "code",
   "execution_count": 28,
   "id": "d260128e",
   "metadata": {},
   "outputs": [
    {
     "name": "stdout",
     "output_type": "stream",
     "text": [
      "Model: \"sequential\"\n",
      "_________________________________________________________________\n",
      " Layer (type)                Output Shape              Param #   \n",
      "=================================================================\n",
      " embedding (Embedding)       (None, 100, 16)           48000     \n",
      "                                                                 \n",
      " global_average_pooling1d (G  (None, 16)               0         \n",
      " lobalAveragePooling1D)                                          \n",
      "                                                                 \n",
      " dense (Dense)               (None, 24)                408       \n",
      "                                                                 \n",
      " dense_1 (Dense)             (None, 1)                 25        \n",
      "                                                                 \n",
      "=================================================================\n",
      "Total params: 48,433\n",
      "Trainable params: 48,433\n",
      "Non-trainable params: 0\n",
      "_________________________________________________________________\n"
     ]
    }
   ],
   "source": [
    "model.summary()"
   ]
  },
  {
   "cell_type": "code",
   "execution_count": 29,
   "id": "d18af310",
   "metadata": {},
   "outputs": [
    {
     "name": "stdout",
     "output_type": "stream",
     "text": [
      "Epoch 1/30\n",
      "44/44 - 2s - loss: 0.6925 - accuracy: 0.5221 - val_loss: 0.6889 - val_accuracy: 0.4928 - 2s/epoch - 42ms/step\n",
      "Epoch 2/30\n",
      "44/44 - 0s - loss: 0.6875 - accuracy: 0.5414 - val_loss: 0.6770 - val_accuracy: 0.4928 - 181ms/epoch - 4ms/step\n",
      "Epoch 3/30\n",
      "44/44 - 0s - loss: 0.6782 - accuracy: 0.5879 - val_loss: 0.6527 - val_accuracy: 0.5270 - 167ms/epoch - 4ms/step\n",
      "Epoch 4/30\n",
      "44/44 - 0s - loss: 0.6589 - accuracy: 0.7664 - val_loss: 0.6114 - val_accuracy: 0.9101 - 180ms/epoch - 4ms/step\n",
      "Epoch 5/30\n",
      "44/44 - 0s - loss: 0.6251 - accuracy: 0.8414 - val_loss: 0.5657 - val_accuracy: 0.8867 - 167ms/epoch - 4ms/step\n",
      "Epoch 6/30\n",
      "44/44 - 0s - loss: 0.5756 - accuracy: 0.8443 - val_loss: 0.5036 - val_accuracy: 0.9317 - 159ms/epoch - 4ms/step\n",
      "Epoch 7/30\n",
      "44/44 - 0s - loss: 0.5126 - accuracy: 0.8857 - val_loss: 0.4391 - val_accuracy: 0.9424 - 164ms/epoch - 4ms/step\n",
      "Epoch 8/30\n",
      "44/44 - 0s - loss: 0.4461 - accuracy: 0.9029 - val_loss: 0.3741 - val_accuracy: 0.9245 - 184ms/epoch - 4ms/step\n",
      "Epoch 9/30\n",
      "44/44 - 0s - loss: 0.3832 - accuracy: 0.8971 - val_loss: 0.3828 - val_accuracy: 0.9191 - 192ms/epoch - 4ms/step\n",
      "Epoch 10/30\n",
      "44/44 - 0s - loss: 0.3302 - accuracy: 0.9186 - val_loss: 0.3021 - val_accuracy: 0.9371 - 206ms/epoch - 5ms/step\n",
      "Epoch 11/30\n",
      "44/44 - 0s - loss: 0.2839 - accuracy: 0.9221 - val_loss: 0.2788 - val_accuracy: 0.9371 - 178ms/epoch - 4ms/step\n",
      "Epoch 12/30\n",
      "44/44 - 0s - loss: 0.2528 - accuracy: 0.9350 - val_loss: 0.2654 - val_accuracy: 0.9406 - 187ms/epoch - 4ms/step\n",
      "Epoch 13/30\n",
      "44/44 - 0s - loss: 0.2204 - accuracy: 0.9407 - val_loss: 0.2483 - val_accuracy: 0.9406 - 193ms/epoch - 4ms/step\n",
      "Epoch 14/30\n",
      "44/44 - 0s - loss: 0.1986 - accuracy: 0.9486 - val_loss: 0.2237 - val_accuracy: 0.9281 - 195ms/epoch - 4ms/step\n",
      "Epoch 15/30\n",
      "44/44 - 0s - loss: 0.1844 - accuracy: 0.9464 - val_loss: 0.2338 - val_accuracy: 0.9353 - 182ms/epoch - 4ms/step\n",
      "Epoch 16/30\n",
      "44/44 - 0s - loss: 0.1635 - accuracy: 0.9500 - val_loss: 0.2208 - val_accuracy: 0.9371 - 169ms/epoch - 4ms/step\n",
      "Epoch 17/30\n",
      "44/44 - 0s - loss: 0.1527 - accuracy: 0.9571 - val_loss: 0.2135 - val_accuracy: 0.9371 - 176ms/epoch - 4ms/step\n",
      "Epoch 18/30\n",
      "44/44 - 0s - loss: 0.1387 - accuracy: 0.9600 - val_loss: 0.2095 - val_accuracy: 0.9371 - 249ms/epoch - 6ms/step\n",
      "Epoch 19/30\n",
      "44/44 - 0s - loss: 0.1283 - accuracy: 0.9607 - val_loss: 0.2126 - val_accuracy: 0.9353 - 230ms/epoch - 5ms/step\n",
      "Epoch 20/30\n",
      "44/44 - 0s - loss: 0.1190 - accuracy: 0.9657 - val_loss: 0.2227 - val_accuracy: 0.9353 - 205ms/epoch - 5ms/step\n",
      "Epoch 21/30\n",
      "44/44 - 0s - loss: 0.1102 - accuracy: 0.9671 - val_loss: 0.2181 - val_accuracy: 0.9353 - 190ms/epoch - 4ms/step\n",
      "Epoch 22/30\n",
      "44/44 - 0s - loss: 0.1052 - accuracy: 0.9736 - val_loss: 0.2080 - val_accuracy: 0.9335 - 188ms/epoch - 4ms/step\n",
      "Epoch 23/30\n",
      "44/44 - 0s - loss: 0.0970 - accuracy: 0.9707 - val_loss: 0.2299 - val_accuracy: 0.9245 - 228ms/epoch - 5ms/step\n",
      "Epoch 24/30\n",
      "44/44 - 0s - loss: 0.0930 - accuracy: 0.9736 - val_loss: 0.2196 - val_accuracy: 0.9353 - 196ms/epoch - 4ms/step\n",
      "Epoch 25/30\n",
      "44/44 - 0s - loss: 0.0872 - accuracy: 0.9757 - val_loss: 0.2099 - val_accuracy: 0.9299 - 177ms/epoch - 4ms/step\n",
      "Epoch 26/30\n",
      "44/44 - 0s - loss: 0.0826 - accuracy: 0.9771 - val_loss: 0.2099 - val_accuracy: 0.9317 - 188ms/epoch - 4ms/step\n",
      "Epoch 27/30\n",
      "44/44 - 0s - loss: 0.0773 - accuracy: 0.9800 - val_loss: 0.2160 - val_accuracy: 0.9281 - 186ms/epoch - 4ms/step\n",
      "Epoch 28/30\n",
      "44/44 - 0s - loss: 0.0728 - accuracy: 0.9814 - val_loss: 0.2158 - val_accuracy: 0.9299 - 179ms/epoch - 4ms/step\n",
      "Epoch 29/30\n",
      "44/44 - 0s - loss: 0.0695 - accuracy: 0.9850 - val_loss: 0.2195 - val_accuracy: 0.9299 - 199ms/epoch - 5ms/step\n",
      "Epoch 30/30\n",
      "44/44 - 0s - loss: 0.0675 - accuracy: 0.9850 - val_loss: 0.2153 - val_accuracy: 0.9263 - 185ms/epoch - 4ms/step\n"
     ]
    }
   ],
   "source": [
    "num_epochs = 30\n",
    "history = model.fit(training_padded, training_labels, epochs=num_epochs, validation_data=(testing_padded, testing_labels), verbose=2)"
   ]
  },
  {
   "cell_type": "code",
   "execution_count": 32,
   "id": "b7c80d4d",
   "metadata": {},
   "outputs": [
    {
     "name": "stdout",
     "output_type": "stream",
     "text": [
      "1/1 [==============================] - 0s 26ms/step\n",
      "[[0.7864406 ]\n",
      " [0.22341347]]\n"
     ]
    }
   ],
   "source": [
    "sentence = [\"follow link and win money\", \"video looks cool, mighs save for later\"]\n",
    "sequences = tokenizer.texts_to_sequences(sentence)\n",
    "padded = pad_sequences(sequences, maxlen=max_length, padding=padding_type, truncating=trunc_type)\n",
    "print(model.predict(padded))"
   ]
  },
  {
   "cell_type": "code",
   "execution_count": null,
   "id": "c2cc15ea",
   "metadata": {},
   "outputs": [],
   "source": []
  }
 ],
 "metadata": {
  "kernelspec": {
   "display_name": "Python 3 (ipykernel)",
   "language": "python",
   "name": "python3"
  },
  "language_info": {
   "codemirror_mode": {
    "name": "ipython",
    "version": 3
   },
   "file_extension": ".py",
   "mimetype": "text/x-python",
   "name": "python",
   "nbconvert_exporter": "python",
   "pygments_lexer": "ipython3",
   "version": "3.10.9"
  }
 },
 "nbformat": 4,
 "nbformat_minor": 5
}
